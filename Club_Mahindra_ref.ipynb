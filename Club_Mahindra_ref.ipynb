{
 "cells": [
  {
   "cell_type": "code",
   "execution_count": null,
   "metadata": {
    "colab": {},
    "colab_type": "code",
    "id": "WmEK-zIfCwSc"
   },
   "outputs": [],
   "source": [
    "import pandas as pd\n",
    "import numpy as np\n",
    "import datetime as dt\n",
    "import matplotlib.pyplot as plt\n",
    "%matplotlib inline\n",
    "\n",
    "import warnings\n",
    "warnings.filterwarnings(\"ignore\")"
   ]
  },
  {
   "cell_type": "code",
   "execution_count": null,
   "metadata": {
    "colab": {},
    "colab_type": "code",
    "id": "1tvIcPiBCwSf"
   },
   "outputs": [],
   "source": [
    "data = pd.read_csv(\"train.csv\", parse_dates = ['booking_date','checkin_date','checkout_date'])\n",
    "test = pd.read_csv(\"test.csv\", parse_dates = ['booking_date','checkin_date','checkout_date'])\n",
    "data_temp = pd.read_csv(\"train.csv\", parse_dates = ['booking_date','checkin_date','checkout_date'])\n",
    "test_temp = pd.read_csv(\"test.csv\", parse_dates = ['booking_date','checkin_date','checkout_date'])"
   ]
  },
  {
   "cell_type": "code",
   "execution_count": null,
   "metadata": {
    "colab": {
     "base_uri": "https://localhost:8080/",
     "height": 244
    },
    "colab_type": "code",
    "id": "k8B9_lg6CwSi",
    "outputId": "580fdd35-b0be-4d42-eb0b-aab914be985a"
   },
   "outputs": [],
   "source": [
    "data.head()"
   ]
  },
  {
   "cell_type": "code",
   "execution_count": null,
   "metadata": {
    "colab": {
     "base_uri": "https://localhost:8080/",
     "height": 758
    },
    "colab_type": "code",
    "id": "zorsUMvHCwSm",
    "outputId": "f11d1492-a1c2-4076-b74a-8774e4496244"
   },
   "outputs": [],
   "source": [
    "def inspect_data(x):\n",
    "\n",
    "    return pd.DataFrame({\"Data Type\":x.dtypes,\"No of Levels\":x.apply(lambda x: x.unique().shape[0],axis=0), \"Levels\":x.apply(lambda x: str(x.unique()),axis=0)})\n",
    "inspect_data(data)"
   ]
  },
  {
   "cell_type": "code",
   "execution_count": null,
   "metadata": {
    "colab": {},
    "colab_type": "code",
    "id": "sNoy4gnHCwSp"
   },
   "outputs": [],
   "source": [
    "#data.loc[data[\"season_holidayed_code\"]==4.0]"
   ]
  },
  {
   "cell_type": "code",
   "execution_count": null,
   "metadata": {
    "colab": {
     "base_uri": "https://localhost:8080/",
     "height": 437
    },
    "colab_type": "code",
    "id": "j9uFD7NECwSs",
    "outputId": "e6c7ef01-045a-464e-84e5-880e13690995"
   },
   "outputs": [],
   "source": [
    "data.isnull().sum()"
   ]
  },
  {
   "cell_type": "markdown",
   "metadata": {
    "colab_type": "text",
    "id": "EucTHWZOCwSv"
   },
   "source": [
    "## Data Cleansing"
   ]
  },
  {
   "cell_type": "code",
   "execution_count": null,
   "metadata": {},
   "outputs": [],
   "source": [
    "def date_cleaning(df):\n",
    "    format_str = '%d/%m/%Y' # The format\n",
    "    df['booking_date'] = df['booking_date'].apply(lambda x: dt.datetime.strftime(x, format_str))\n",
    "    df['checkin_date'] = df['checkin_date'].apply(lambda x: dt.datetime.strftime(x, format_str))\n",
    "    df['checkout_date'] = df['checkout_date'].apply(lambda x: dt.datetime.strftime(x, format_str))\n",
    "    df['booking_date'] = pd.to_datetime(df['booking_date'])\n",
    "    df['checkin_date'] = pd.to_datetime(df['checkin_date'])\n",
    "    df['checkout_date'] = pd.to_datetime(df['checkout_date'])    \n",
    "    df['D_checkin_month'] =  df.checkin_date.dt.month\n",
    "    df['D_checkin_year'] =  df.checkin_date.dt.year\n",
    "    df['D_checkin_week'] =  df.checkin_date.dt.week\n",
    "    df['D_checkin_weekday'] =  df.checkin_date.dt.weekday\n",
    "    df['D_booking_month'] =  df.booking_date.dt.month\n",
    "    df['D_booking_year'] =  df.booking_date.dt.year\n",
    "    df['D_booking_week'] =  df.booking_date.dt.week\n",
    "    df['D_booking_weekday'] =  df.booking_date.dt.weekday\n",
    "    df['checkin_date'] = np.where(df.D_checkin_year < 2015, df['checkin_date'] + pd.DateOffset(years=6), df['checkin_date'])\n",
    "    df['checkout_date'] = np.where(df.D_checkin_year < 2015, df['checkout_date'] + pd.DateOffset(years=6), df['checkout_date'])\n",
    "    df['D_checkin_year'] =  df.checkin_date.dt.year\n",
    "    df['D_no_days_prior_Advanced'] =  (df.checkin_date - df.booking_date).dt.days\n",
    "    df['D_no_days_stay'] =  (df.checkout_date - df.checkin_date).dt.days\n",
    "    \n",
    "    return df"
   ]
  },
  {
   "cell_type": "code",
   "execution_count": null,
   "metadata": {},
   "outputs": [],
   "source": [
    "data = date_cleaning(data)\n",
    "test = date_cleaning(test)"
   ]
  },
  {
   "cell_type": "code",
   "execution_count": null,
   "metadata": {},
   "outputs": [],
   "source": [
    "data.head()"
   ]
  },
  {
   "cell_type": "markdown",
   "metadata": {
    "colab_type": "text",
    "id": "axDqUEGQCwSw"
   },
   "source": [
    "### Dropping unnecessary columns"
   ]
  },
  {
   "cell_type": "code",
   "execution_count": null,
   "metadata": {
    "colab": {},
    "colab_type": "code",
    "id": "-DuJBfpTCwSx"
   },
   "outputs": [],
   "source": [
    "data.drop(['reservation_id','checkout_date','state_code_residence','memberid','resort_id'], axis=1, inplace=True)"
   ]
  },
  {
   "cell_type": "code",
   "execution_count": null,
   "metadata": {
    "colab": {},
    "colab_type": "code",
    "id": "HKY8P61ICwSz"
   },
   "outputs": [],
   "source": [
    "test.drop(['reservation_id','checkout_date','state_code_residence','memberid','resort_id'], axis=1, inplace=True)"
   ]
  },
  {
   "cell_type": "code",
   "execution_count": null,
   "metadata": {},
   "outputs": [],
   "source": [
    "data[data.D_no_days_prior_Advanced < 0]"
   ]
  },
  {
   "cell_type": "code",
   "execution_count": null,
   "metadata": {},
   "outputs": [],
   "source": [
    "data.drop(data[data.D_no_days_prior_Advanced < 0].index, inplace=True)\n",
    "#test.drop(test[test.D_no_days_prior_Advanced < 0].index, inplace=True)"
   ]
  },
  {
   "cell_type": "code",
   "execution_count": null,
   "metadata": {},
   "outputs": [],
   "source": [
    "print(data.shape)\n",
    "print(test.shape)"
   ]
  },
  {
   "cell_type": "code",
   "execution_count": null,
   "metadata": {
    "colab": {},
    "colab_type": "code",
    "id": "O2gncORsCwTM"
   },
   "outputs": [],
   "source": [
    "# Dropping booking date and checkin date as information from them has been extracted\n",
    "data.drop(['booking_date','checkin_date','reservationstatusid_code'], axis=1, inplace=True)\n",
    "test.drop(['booking_date','checkin_date','reservationstatusid_code'], axis=1, inplace=True)"
   ]
  },
  {
   "cell_type": "markdown",
   "metadata": {
    "colab_type": "text",
    "id": "AKJ-7bSYCwTO"
   },
   "source": [
    "### Converting datatypes to appropriate ones"
   ]
  },
  {
   "cell_type": "code",
   "execution_count": null,
   "metadata": {
    "colab": {},
    "colab_type": "code",
    "id": "rhaYxMXZCwTP"
   },
   "outputs": [],
   "source": [
    "data[['channel_code','main_product_code','persontravellingid','resort_region_code','resort_type_code','room_type_booked_code','state_code_resort','booking_type_code']] = data[['channel_code','main_product_code','persontravellingid','resort_region_code','resort_type_code','room_type_booked_code','state_code_resort','booking_type_code']].astype('object')"
   ]
  },
  {
   "cell_type": "code",
   "execution_count": null,
   "metadata": {
    "colab": {
     "base_uri": "https://localhost:8080/",
     "height": 336
    },
    "colab_type": "code",
    "id": "bv39LZTHCwTU",
    "outputId": "82d8fe9b-b391-4f45-b143-4103f1f14a91"
   },
   "outputs": [],
   "source": [
    "data.dtypes"
   ]
  },
  {
   "cell_type": "code",
   "execution_count": null,
   "metadata": {
    "colab": {},
    "colab_type": "code",
    "id": "G3zW0qjDCwTY"
   },
   "outputs": [],
   "source": [
    "test[['channel_code','main_product_code','persontravellingid','resort_region_code',\n",
    "    'resort_type_code','room_type_booked_code','state_code_resort','booking_type_code']] = test[['channel_code','main_product_code','persontravellingid','resort_region_code',\n",
    "    'resort_type_code','room_type_booked_code','state_code_resort','booking_type_code']].astype('object')"
   ]
  },
  {
   "cell_type": "code",
   "execution_count": null,
   "metadata": {
    "colab": {
     "base_uri": "https://localhost:8080/",
     "height": 50
    },
    "colab_type": "code",
    "id": "cHQBm7nCCwTa",
    "outputId": "40ad0f81-c396-4633-91ae-c8c04fab9fa5"
   },
   "outputs": [],
   "source": [
    "print(test.shape)\n",
    "print(data.shape)"
   ]
  },
  {
   "cell_type": "code",
   "execution_count": null,
   "metadata": {
    "colab": {},
    "colab_type": "code",
    "id": "IUVz8nF1CwTg"
   },
   "outputs": [],
   "source": [
    "data[\"season_holidayed_code\"] = data[\"season_holidayed_code\"].astype('object')\n",
    "test[\"season_holidayed_code\"] = test[\"season_holidayed_code\"].astype('object')"
   ]
  },
  {
   "cell_type": "code",
   "execution_count": null,
   "metadata": {
    "colab": {
     "base_uri": "https://localhost:8080/",
     "height": 101
    },
    "colab_type": "code",
    "id": "Hfh_8iRFCwTj",
    "outputId": "134ac4de-eb6e-4d92-cb7f-c1a6b7e3046d"
   },
   "outputs": [],
   "source": [
    "data[\"season_holidayed_code\"].value_counts()"
   ]
  },
  {
   "cell_type": "code",
   "execution_count": null,
   "metadata": {
    "colab": {
     "base_uri": "https://localhost:8080/",
     "height": 319
    },
    "colab_type": "code",
    "id": "3q3xZJseCwTm",
    "outputId": "9010a890-7dd2-48b7-827b-bbc20b5b0ea5"
   },
   "outputs": [],
   "source": [
    "test.isnull().sum()"
   ]
  },
  {
   "cell_type": "markdown",
   "metadata": {
    "colab_type": "text",
    "id": "QADLSOf4CwT6"
   },
   "source": [
    "### Imputing missing values"
   ]
  },
  {
   "cell_type": "code",
   "execution_count": null,
   "metadata": {
    "colab": {},
    "colab_type": "code",
    "id": "8CpL2skMCwT8"
   },
   "outputs": [],
   "source": [
    "data[\"season_holidayed_code\"].fillna(data[\"season_holidayed_code\"].mode()[0], inplace=True)\n",
    "test[\"season_holidayed_code\"].fillna(test[\"season_holidayed_code\"].mode()[0], inplace=True)"
   ]
  },
  {
   "cell_type": "code",
   "execution_count": null,
   "metadata": {
    "colab": {
     "base_uri": "https://localhost:8080/",
     "height": 336
    },
    "colab_type": "code",
    "id": "QZBgOiKdUNnF",
    "outputId": "81224dc2-0827-416c-f682-481a2e802b41"
   },
   "outputs": [],
   "source": [
    "data.isnull().sum()"
   ]
  },
  {
   "cell_type": "code",
   "execution_count": null,
   "metadata": {
    "colab": {},
    "colab_type": "code",
    "id": "0oedsb9LCwT-"
   },
   "outputs": [],
   "source": [
    "# Creating dummies\n",
    "data = pd.get_dummies(data, drop_first= True)\n",
    "test = pd.get_dummies(test, drop_first= True)"
   ]
  },
  {
   "cell_type": "code",
   "execution_count": null,
   "metadata": {
    "colab": {
     "base_uri": "https://localhost:8080/",
     "height": 50
    },
    "colab_type": "code",
    "id": "8jpAeCMuCwUA",
    "outputId": "17add2ec-1cf8-408f-991e-e4c5eb67a647"
   },
   "outputs": [],
   "source": [
    "print(data.shape)\n",
    "print(test.shape)"
   ]
  },
  {
   "cell_type": "markdown",
   "metadata": {
    "colab_type": "text",
    "id": "ipyvsfNDCwUD"
   },
   "source": [
    "## Train and Test Split"
   ]
  },
  {
   "cell_type": "code",
   "execution_count": null,
   "metadata": {
    "colab": {},
    "colab_type": "code",
    "id": "td6g0mfVCwUD"
   },
   "outputs": [],
   "source": [
    "from sklearn.model_selection import train_test_split"
   ]
  },
  {
   "cell_type": "code",
   "execution_count": null,
   "metadata": {
    "colab": {},
    "colab_type": "code",
    "id": "2b-pp1-wCwUF"
   },
   "outputs": [],
   "source": [
    "train,test1 = train_test_split(data,test_size = 0.3, random_state = 100)"
   ]
  },
  {
   "cell_type": "code",
   "execution_count": null,
   "metadata": {
    "colab": {},
    "colab_type": "code",
    "id": "bjYVQszqCwUH"
   },
   "outputs": [],
   "source": [
    "# Decoupling target from train\n",
    "\n",
    "y_train = train['amount_spent_per_room_night_scaled']\n",
    "X_train = train.copy().drop('amount_spent_per_room_night_scaled', axis=1)\n",
    "y_test = test1['amount_spent_per_room_night_scaled']\n",
    "X_test = test1.copy().drop('amount_spent_per_room_night_scaled', axis=1)"
   ]
  },
  {
   "cell_type": "code",
   "execution_count": null,
   "metadata": {
    "colab": {
     "base_uri": "https://localhost:8080/",
     "height": 50
    },
    "colab_type": "code",
    "id": "WRbtupjfCwUJ",
    "outputId": "a1dd9e59-9eca-4a12-9abc-f2f31519bbe9"
   },
   "outputs": [],
   "source": [
    "print(X_train.shape)\n",
    "print(X_test.shape)"
   ]
  },
  {
   "cell_type": "code",
   "execution_count": null,
   "metadata": {},
   "outputs": [],
   "source": [
    "test.shape"
   ]
  },
  {
   "cell_type": "markdown",
   "metadata": {},
   "source": [
    "## Linear Model"
   ]
  },
  {
   "cell_type": "code",
   "execution_count": 33,
   "metadata": {
    "colab": {},
    "colab_type": "code",
    "id": "4R8YRHDFCwUM"
   },
   "outputs": [],
   "source": [
    "from sklearn.linear_model import LinearRegression"
   ]
  },
  {
   "cell_type": "code",
   "execution_count": 34,
   "metadata": {
    "colab": {},
    "colab_type": "code",
    "id": "ng1BGZlNCwUR"
   },
   "outputs": [],
   "source": [
    "# Fitting the train and predicting on test\n",
    "lr = LinearRegression()\n",
    "model1 = lr.fit(X_train, y_train)"
   ]
  },
  {
   "cell_type": "code",
   "execution_count": 35,
   "metadata": {
    "colab": {},
    "colab_type": "code",
    "id": "uYyNAm8ICwUV"
   },
   "outputs": [],
   "source": [
    "train_preds = model1.predict(X_train)"
   ]
  },
  {
   "cell_type": "code",
   "execution_count": 36,
   "metadata": {
    "colab": {},
    "colab_type": "code",
    "id": "9snfeYMhCwUX"
   },
   "outputs": [],
   "source": [
    "test_preds = model1.predict(X_test)"
   ]
  },
  {
   "cell_type": "code",
   "execution_count": 37,
   "metadata": {
    "colab": {},
    "colab_type": "code",
    "id": "GDiOkiBzCwUZ"
   },
   "outputs": [],
   "source": [
    "from sklearn.metrics import mean_squared_error"
   ]
  },
  {
   "cell_type": "code",
   "execution_count": 38,
   "metadata": {},
   "outputs": [],
   "source": [
    "def mean_absolute_percentage_error(y_true, y_pred): \n",
    "    y_true, y_pred = np.array(y_true), np.array(y_pred)\n",
    "    return np.mean(np.abs((y_true - y_pred) / y_true)) * 100"
   ]
  },
  {
   "cell_type": "code",
   "execution_count": 39,
   "metadata": {
    "colab": {
     "base_uri": "https://localhost:8080/",
     "height": 34
    },
    "colab_type": "code",
    "id": "o6EcapEdCwUb",
    "outputId": "c79c5382-089a-45a3-90d5-bab2c1339af0"
   },
   "outputs": [
    {
     "name": "stdout",
     "output_type": "stream",
     "text": [
      "1.00609059026\n",
      "10.898853043677544\n"
     ]
    }
   ],
   "source": [
    "from math import sqrt\n",
    "print(sqrt(mean_squared_error(y_train, train_preds)))\n",
    "print( mean_absolute_percentage_error(y_train, train_preds))"
   ]
  },
  {
   "cell_type": "code",
   "execution_count": 40,
   "metadata": {
    "colab": {
     "base_uri": "https://localhost:8080/",
     "height": 34
    },
    "colab_type": "code",
    "id": "ra7eZ8EjCwUg",
    "outputId": "1846566d-27a6-47a0-c4bb-46a4580f38fc"
   },
   "outputs": [
    {
     "name": "stdout",
     "output_type": "stream",
     "text": [
      "1.00516440645\n",
      "10.88931246432048\n"
     ]
    }
   ],
   "source": [
    "print(sqrt(mean_squared_error(y_test, test_preds)))\n",
    "print(mean_absolute_percentage_error(y_test, test_preds))"
   ]
  },
  {
   "cell_type": "code",
   "execution_count": 41,
   "metadata": {},
   "outputs": [
    {
     "name": "stdout",
     "output_type": "stream",
     "text": [
      "/nfsroot/data/home/B57gpu10/Hackathon\r\n"
     ]
    }
   ],
   "source": [
    "!pwd"
   ]
  },
  {
   "cell_type": "code",
   "execution_count": 42,
   "metadata": {
    "colab": {},
    "colab_type": "code",
    "id": "vVj8829wCwUl"
   },
   "outputs": [],
   "source": [
    "prediction1 = pd.DataFrame({\"reservation_id\":test_temp['reservation_id'],\"amount_spent_per_room_night_scaled\":model1.predict(test)})"
   ]
  },
  {
   "cell_type": "code",
   "execution_count": 44,
   "metadata": {
    "colab": {},
    "colab_type": "code",
    "id": "CCDTIuAlCwUm"
   },
   "outputs": [],
   "source": [
    "prediction1.to_csv(\"prediction1.csv\", index=False)"
   ]
  },
  {
   "cell_type": "markdown",
   "metadata": {
    "colab": {},
    "colab_type": "code",
    "id": "DK1hAf-aCwUr"
   },
   "source": [
    "## Neural Net Model"
   ]
  },
  {
   "cell_type": "code",
   "execution_count": 45,
   "metadata": {
    "colab": {
     "base_uri": "https://localhost:8080/",
     "height": 34
    },
    "colab_type": "code",
    "id": "HDsAVmW1CwUw",
    "outputId": "2d094eea-9dfc-425e-f569-c18b490ede96"
   },
   "outputs": [
    {
     "name": "stderr",
     "output_type": "stream",
     "text": [
      "Using TensorFlow backend.\n"
     ]
    }
   ],
   "source": [
    "from keras.models import Sequential\n",
    "from keras.layers import Dropout, Dense \n",
    "from keras.optimizers import Adam\n",
    "from keras.regularizers import l2"
   ]
  },
  {
   "cell_type": "code",
   "execution_count": 46,
   "metadata": {},
   "outputs": [],
   "source": [
    "BATCH_SIZE = 45\n",
    "# EPOCHS = 100\n",
    "EPOCHS = 50\n",
    "INPUT_SHAPE = X_train.shape[1]\n",
    "optimizer = Adam(lr=0.0001)"
   ]
  },
  {
   "cell_type": "code",
   "execution_count": 47,
   "metadata": {},
   "outputs": [],
   "source": [
    "model = Sequential()\n",
    "model.add(Dropout(0.1,input_shape=(INPUT_SHAPE,)))\n",
    "model.add(Dense(10,input_shape=(INPUT_SHAPE,), activation='relu',kernel_regularizer=l2(l=0.005),kernel_initializer='uniform'))\n",
    "model.add(Dropout(rate=0.4))\n",
    "model.add(Dense(10,activation='relu',kernel_regularizer=l2(l=0.005),kernel_initializer='uniform'))\n",
    "model.add(Dropout(rate=0.4))\n",
    "model.add(Dense(10,activation='relu',kernel_regularizer=l2(0.005),kernel_initializer='uniform'))\n",
    "model.add(Dropout(rate=0.4))\n",
    "model.add(Dense(10,activation='relu',kernel_regularizer=l2(0.005),kernel_initializer='uniform'))\n",
    "model.add(Dropout(rate=0.3))\n",
    "model.add(Dense(1, activation='linear'))"
   ]
  },
  {
   "cell_type": "code",
   "execution_count": 105,
   "metadata": {
    "colab": {},
    "colab_type": "code",
    "id": "sGmR9bH6CwUy"
   },
   "outputs": [],
   "source": [
    "#model = Sequential() # This initializes a sequential model to which we can keep adding layers.\n",
    "#model.add(Dense(50, kernel_initializer='uniform', \n",
    " #               input_dim = 68, activation='relu')) # Add a dense layer \n",
    "#model.add(Dense(1, kernel_initializer='uniform', \n",
    "#                activation='linear'))"
   ]
  },
  {
   "cell_type": "code",
   "execution_count": 48,
   "metadata": {
    "colab": {},
    "colab_type": "code",
    "id": "4SV6l2GGVsXL"
   },
   "outputs": [],
   "source": [
    "model.compile(loss='mse', # mse is the loss function. \n",
    "              optimizer=optimizer,                  # Mention the optimizer\n",
    "              metrics=['mse'])"
   ]
  },
  {
   "cell_type": "code",
   "execution_count": 49,
   "metadata": {
    "colab": {
     "base_uri": "https://localhost:8080/",
     "height": 16834
    },
    "colab_type": "code",
    "id": "-ZJZyUVfVxTL",
    "outputId": "2234284d-3094-461f-b1a1-c04369bef98f"
   },
   "outputs": [
    {
     "name": "stdout",
     "output_type": "stream",
     "text": [
      "Train on 238996 samples, validate on 102428 samples\n",
      "Epoch 1/50\n",
      "238996/238996 [==============================] - 47s 197us/step - loss: 15.4255 - mean_squared_error: 15.4192 - val_loss: 11.0887 - val_mean_squared_error: 11.0814\n",
      "Epoch 2/50\n",
      "238996/238996 [==============================] - 27s 112us/step - loss: 7.2287 - mean_squared_error: 7.2209 - val_loss: 1.8473 - val_mean_squared_error: 1.8395\n",
      "Epoch 3/50\n",
      "238996/238996 [==============================] - 26s 110us/step - loss: 4.5936 - mean_squared_error: 4.5880 - val_loss: 1.4214 - val_mean_squared_error: 1.4178\n",
      "Epoch 4/50\n",
      "238996/238996 [==============================] - 25s 105us/step - loss: 3.8681 - mean_squared_error: 3.8656 - val_loss: 1.3830 - val_mean_squared_error: 1.3813\n",
      "Epoch 5/50\n",
      "238996/238996 [==============================] - 24s 100us/step - loss: 3.4439 - mean_squared_error: 3.4424 - val_loss: 1.3431 - val_mean_squared_error: 1.3419\n",
      "Epoch 6/50\n",
      "238996/238996 [==============================] - 24s 101us/step - loss: 3.1329 - mean_squared_error: 3.1319 - val_loss: 1.3090 - val_mean_squared_error: 1.3081\n",
      "Epoch 7/50\n",
      "238996/238996 [==============================] - 25s 104us/step - loss: 2.8342 - mean_squared_error: 2.8334 - val_loss: 1.2899 - val_mean_squared_error: 1.2892\n",
      "Epoch 8/50\n",
      "238996/238996 [==============================] - 24s 101us/step - loss: 2.5695 - mean_squared_error: 2.5689 - val_loss: 1.2804 - val_mean_squared_error: 1.2798\n",
      "Epoch 9/50\n",
      "238996/238996 [==============================] - 25s 105us/step - loss: 2.3235 - mean_squared_error: 2.3230 - val_loss: 1.2586 - val_mean_squared_error: 1.2581\n",
      "Epoch 10/50\n",
      "238996/238996 [==============================] - 24s 102us/step - loss: 2.1339 - mean_squared_error: 2.1334 - val_loss: 1.2398 - val_mean_squared_error: 1.2394\n",
      "Epoch 11/50\n",
      "238996/238996 [==============================] - 25s 104us/step - loss: 1.9459 - mean_squared_error: 1.9455 - val_loss: 1.2323 - val_mean_squared_error: 1.2320\n",
      "Epoch 12/50\n",
      "238996/238996 [==============================] - 25s 104us/step - loss: 1.7939 - mean_squared_error: 1.7936 - val_loss: 1.2247 - val_mean_squared_error: 1.2244\n",
      "Epoch 13/50\n",
      "238996/238996 [==============================] - 25s 103us/step - loss: 1.6606 - mean_squared_error: 1.6603 - val_loss: 1.2132 - val_mean_squared_error: 1.2130\n",
      "Epoch 14/50\n",
      "238996/238996 [==============================] - 25s 104us/step - loss: 1.5621 - mean_squared_error: 1.5618 - val_loss: 1.2069 - val_mean_squared_error: 1.2067\n",
      "Epoch 15/50\n",
      "238996/238996 [==============================] - 25s 106us/step - loss: 1.4589 - mean_squared_error: 1.4587 - val_loss: 1.2032 - val_mean_squared_error: 1.2030\n",
      "Epoch 16/50\n",
      "238996/238996 [==============================] - 25s 104us/step - loss: 1.3944 - mean_squared_error: 1.3942 - val_loss: 1.1969 - val_mean_squared_error: 1.1967\n",
      "Epoch 17/50\n",
      "238996/238996 [==============================] - 26s 108us/step - loss: 1.3382 - mean_squared_error: 1.3380 - val_loss: 1.1991 - val_mean_squared_error: 1.1990\n",
      "Epoch 18/50\n",
      "238996/238996 [==============================] - 25s 105us/step - loss: 1.3004 - mean_squared_error: 1.3002 - val_loss: 1.1940 - val_mean_squared_error: 1.1939\n",
      "Epoch 19/50\n",
      "238996/238996 [==============================] - 24s 102us/step - loss: 1.2680 - mean_squared_error: 1.2679 - val_loss: 1.1941 - val_mean_squared_error: 1.1940\n",
      "Epoch 20/50\n",
      "238996/238996 [==============================] - 26s 108us/step - loss: 1.2458 - mean_squared_error: 1.2457 - val_loss: 1.1937 - val_mean_squared_error: 1.1935\n",
      "Epoch 21/50\n",
      "238996/238996 [==============================] - 25s 105us/step - loss: 1.2280 - mean_squared_error: 1.2279 - val_loss: 1.1919 - val_mean_squared_error: 1.1917\n",
      "Epoch 22/50\n",
      "238996/238996 [==============================] - 24s 100us/step - loss: 1.2158 - mean_squared_error: 1.2157 - val_loss: 1.1925 - val_mean_squared_error: 1.1924\n",
      "Epoch 23/50\n",
      "238996/238996 [==============================] - 25s 105us/step - loss: 1.2083 - mean_squared_error: 1.2082 - val_loss: 1.1908 - val_mean_squared_error: 1.1907\n",
      "Epoch 24/50\n",
      "238996/238996 [==============================] - 25s 105us/step - loss: 1.2028 - mean_squared_error: 1.2027 - val_loss: 1.1910 - val_mean_squared_error: 1.1910\n",
      "Epoch 25/50\n",
      "238996/238996 [==============================] - 24s 102us/step - loss: 1.1980 - mean_squared_error: 1.1979 - val_loss: 1.1914 - val_mean_squared_error: 1.1913\n",
      "Epoch 26/50\n",
      "238996/238996 [==============================] - 25s 107us/step - loss: 1.1954 - mean_squared_error: 1.1953 - val_loss: 1.1907 - val_mean_squared_error: 1.1906\n",
      "Epoch 27/50\n",
      "238996/238996 [==============================] - 25s 104us/step - loss: 1.1929 - mean_squared_error: 1.1928 - val_loss: 1.1907 - val_mean_squared_error: 1.1906\n",
      "Epoch 28/50\n",
      "238996/238996 [==============================] - 25s 106us/step - loss: 1.1916 - mean_squared_error: 1.1915 - val_loss: 1.1905 - val_mean_squared_error: 1.1904\n",
      "Epoch 29/50\n",
      "238996/238996 [==============================] - 25s 103us/step - loss: 1.1904 - mean_squared_error: 1.1903 - val_loss: 1.1904 - val_mean_squared_error: 1.1903\n",
      "Epoch 30/50\n",
      "238996/238996 [==============================] - 25s 106us/step - loss: 1.1897 - mean_squared_error: 1.1896 - val_loss: 1.1905 - val_mean_squared_error: 1.1905\n",
      "Epoch 31/50\n",
      "238996/238996 [==============================] - 25s 105us/step - loss: 1.1893 - mean_squared_error: 1.1892 - val_loss: 1.1904 - val_mean_squared_error: 1.1903\n",
      "Epoch 32/50\n",
      "238996/238996 [==============================] - 24s 102us/step - loss: 1.1888 - mean_squared_error: 1.1888 - val_loss: 1.1905 - val_mean_squared_error: 1.1904\n",
      "Epoch 33/50\n",
      "238996/238996 [==============================] - 24s 102us/step - loss: 1.1884 - mean_squared_error: 1.1884 - val_loss: 1.1905 - val_mean_squared_error: 1.1905\n",
      "Epoch 34/50\n",
      "238996/238996 [==============================] - 26s 109us/step - loss: 1.1884 - mean_squared_error: 1.1884 - val_loss: 1.1904 - val_mean_squared_error: 1.1904\n",
      "Epoch 35/50\n",
      "238996/238996 [==============================] - 25s 106us/step - loss: 1.1880 - mean_squared_error: 1.1879 - val_loss: 1.1906 - val_mean_squared_error: 1.1905\n",
      "Epoch 36/50\n",
      "238996/238996 [==============================] - 24s 102us/step - loss: 1.1880 - mean_squared_error: 1.1879 - val_loss: 1.1904 - val_mean_squared_error: 1.1903\n",
      "Epoch 37/50\n",
      "238996/238996 [==============================] - 24s 101us/step - loss: 1.1878 - mean_squared_error: 1.1877 - val_loss: 1.1904 - val_mean_squared_error: 1.1904\n",
      "Epoch 38/50\n",
      "238996/238996 [==============================] - 25s 104us/step - loss: 1.1878 - mean_squared_error: 1.1878 - val_loss: 1.1903 - val_mean_squared_error: 1.1903\n",
      "Epoch 39/50\n",
      "238996/238996 [==============================] - 25s 106us/step - loss: 1.1877 - mean_squared_error: 1.1877 - val_loss: 1.1904 - val_mean_squared_error: 1.1904\n",
      "Epoch 40/50\n",
      "238996/238996 [==============================] - 25s 104us/step - loss: 1.1876 - mean_squared_error: 1.1876 - val_loss: 1.1903 - val_mean_squared_error: 1.1903\n",
      "Epoch 41/50\n",
      "238996/238996 [==============================] - 25s 103us/step - loss: 1.1876 - mean_squared_error: 1.1876 - val_loss: 1.1903 - val_mean_squared_error: 1.1903\n",
      "Epoch 42/50\n",
      "238996/238996 [==============================] - 25s 107us/step - loss: 1.1876 - mean_squared_error: 1.1876 - val_loss: 1.1903 - val_mean_squared_error: 1.1903\n",
      "Epoch 43/50\n",
      "238996/238996 [==============================] - 24s 102us/step - loss: 1.1876 - mean_squared_error: 1.1876 - val_loss: 1.1903 - val_mean_squared_error: 1.1903\n",
      "Epoch 44/50\n",
      "238996/238996 [==============================] - 25s 106us/step - loss: 1.1876 - mean_squared_error: 1.1876 - val_loss: 1.1903 - val_mean_squared_error: 1.1903\n",
      "Epoch 45/50\n",
      "238996/238996 [==============================] - 25s 104us/step - loss: 1.1876 - mean_squared_error: 1.1876 - val_loss: 1.1903 - val_mean_squared_error: 1.1903\n",
      "Epoch 46/50\n",
      "238996/238996 [==============================] - 25s 107us/step - loss: 1.1876 - mean_squared_error: 1.1876 - val_loss: 1.1904 - val_mean_squared_error: 1.1904\n",
      "Epoch 47/50\n",
      "238996/238996 [==============================] - 25s 106us/step - loss: 1.1875 - mean_squared_error: 1.1875 - val_loss: 1.1903 - val_mean_squared_error: 1.1903\n",
      "Epoch 48/50\n",
      "238996/238996 [==============================] - 26s 107us/step - loss: 1.1876 - mean_squared_error: 1.1876 - val_loss: 1.1903 - val_mean_squared_error: 1.1903\n",
      "Epoch 49/50\n",
      "238996/238996 [==============================] - 26s 108us/step - loss: 1.1876 - mean_squared_error: 1.1875 - val_loss: 1.1903 - val_mean_squared_error: 1.1903\n",
      "Epoch 50/50\n",
      "238996/238996 [==============================] - 25s 105us/step - loss: 1.1875 - mean_squared_error: 1.1875 - val_loss: 1.1903 - val_mean_squared_error: 1.1903\n"
     ]
    }
   ],
   "source": [
    "# training the MLP model\n",
    "history = model.fit(X_train, y_train, epochs=EPOCHS, batch_size=BATCH_SIZE, validation_data=(X_test,y_test)).history"
   ]
  },
  {
   "cell_type": "code",
   "execution_count": 51,
   "metadata": {
    "colab": {
     "base_uri": "https://localhost:8080/",
     "height": 295
    },
    "colab_type": "code",
    "id": "Wuc3Rniugv8y",
    "outputId": "29a7bc75-286c-4673-b4c5-31505df68b0e"
   },
   "outputs": [
    {
     "data": {
      "image/png": "[encoded data removed]",
      "text/plain": [
       "<Figure size 432x288 with 1 Axes>"
      ]
     },
     "metadata": {},
     "output_type": "display_data"
    }
   ],
   "source": [
    "import matplotlib.pyplot as plt\n",
    "import os\n",
    "plt.plot(history['mean_squared_error'], linewidth=2, label='Train')\n",
    "plt.plot(history['val_mean_squared_error'], linewidth=2, label='Validation')\n",
    "plt.legend(loc='lower right')\n",
    "plt.title('Mean squared error')\n",
    "plt.ylabel('mse')\n",
    "plt.xlabel('Epoch')\n",
    "#plt.ylim(ymin=0.70,ymax=1)\n",
    "plt.show()"
   ]
  },
  {
   "cell_type": "code",
   "execution_count": 52,
   "metadata": {
    "colab": {
     "base_uri": "https://localhost:8080/",
     "height": 34
    },
    "colab_type": "code",
    "id": "URdQJ7E5Z3_r",
    "outputId": "db1a1586-9d89-49a4-dd2b-377dceed8266"
   },
   "outputs": [
    {
     "data": {
      "text/plain": [
       "1.089780356057323"
      ]
     },
     "execution_count": 52,
     "metadata": {},
     "output_type": "execute_result"
    }
   ],
   "source": [
    "sqrt(mean_squared_error(y_train, model.predict(X_train)))"
   ]
  },
  {
   "cell_type": "code",
   "execution_count": 53,
   "metadata": {
    "colab": {
     "base_uri": "https://localhost:8080/",
     "height": 34
    },
    "colab_type": "code",
    "id": "ZiOjCrI-amRA",
    "outputId": "d8ed7076-3596-4128-c78d-33c2347eba3b"
   },
   "outputs": [
    {
     "data": {
      "text/plain": [
       "1.091030490937479"
      ]
     },
     "execution_count": 53,
     "metadata": {},
     "output_type": "execute_result"
    }
   ],
   "source": [
    "sqrt(mean_squared_error(y_test, model.predict(X_test)))"
   ]
  },
  {
   "cell_type": "markdown",
   "metadata": {},
   "source": [
    "## XGBoost Model"
   ]
  },
  {
   "cell_type": "markdown",
   "metadata": {},
   "source": [
    "### Hyperparameter tuning"
   ]
  },
  {
   "cell_type": "code",
   "execution_count": null,
   "metadata": {
    "colab": {
     "base_uri": "https://localhost:8080/",
     "height": 441
    },
    "colab_type": "code",
    "id": "aeLLv53OayDq",
    "outputId": "945a9c63-b98d-42a7-ae6a-bba5235ab796"
   },
   "outputs": [],
   "source": [
    "from xgboost.sklearn import XGBRegressor\n",
    "from sklearn.model_selection import RandomizedSearchCV\n",
    "xgb_model = XGBRegressor()\n",
    "\n",
    "param_grid = {'n_estimators':np.arange(25,155,10),'max_depth':np.arange(3,18,3),'min_child_weight':np.arange(2,20,2), 'learning_rate':np.arange(0.0001,1, 0.0001),\n",
    "              'gamma':np.arange(0.1,0.5,0.01),\n",
    "             'subsample':np.arange(0.5,1.0,0.1)}\n",
    " \n",
    "xgb_model_cv_grid = RandomizedSearchCV(estimator = xgb_model, param_distributions = param_grid, cv = 5, n_iter=100)\n",
    "xgb_model_cv_grid.fit(X_train, y_train)\n",
    "xgb_model_cv_grid.best_estimator_"
   ]
  },
  {
   "cell_type": "markdown",
   "metadata": {},
   "source": [
    "### XGB - Final"
   ]
  },
  {
   "cell_type": "code",
   "execution_count": 0,
   "metadata": {
    "colab": {},
    "colab_type": "code",
    "id": "M_M8Lf77wzNw"
   },
   "outputs": [],
   "source": [
    "from xgboost.sklearn import XGBRegressor\n",
    "from sklearn.model_selection import RandomizedSearchCV\n",
    "xgb = XGBRegressor(base_score=0.5, booster='gbtree', colsample_bylevel=1,\n",
    "       colsample_bytree=1, gamma=0.1, importance_type='gain',\n",
    "       learning_rate=0.1917, max_delta_step=0, max_depth=6,\n",
    "       min_child_weight=6, missing=None, n_estimators=125, n_jobs=-1,\n",
    "       nthread=None, objective='reg:linear', random_state=0, reg_alpha=0,\n",
    "       reg_lambda=1, scale_pos_weight=1, seed=None, silent=True,\n",
    "       subsample=0.5)"
   ]
  },
  {
   "cell_type": "code",
   "execution_count": 145,
   "metadata": {
    "colab": {
     "base_uri": "https://localhost:8080/",
     "height": 84
    },
    "colab_type": "code",
    "id": "xfiQcYq9w6jx",
    "outputId": "b827a2a4-5878-4b09-a5ca-4c9307d5c574"
   },
   "outputs": [
    {
     "name": "stderr",
     "output_type": "stream",
     "text": [
      "/usr/local/lib/python3.6/dist-packages/xgboost/core.py:587: FutureWarning: Series.base is deprecated and will be removed in a future version\n",
      "  if getattr(data, 'base', None) is not None and \\\n",
      "/usr/local/lib/python3.6/dist-packages/xgboost/core.py:588: FutureWarning: Series.base is deprecated and will be removed in a future version\n",
      "  data.base is not None and isinstance(data, np.ndarray) \\\n"
     ]
    }
   ],
   "source": [
    "model6 = xgb.fit(X_train,y_train)"
   ]
  },
  {
   "cell_type": "code",
   "execution_count": 0,
   "metadata": {
    "colab": {},
    "colab_type": "code",
    "id": "85EqbDM_w-BZ"
   },
   "outputs": [],
   "source": [
    "train_pred7 = model6.predict(X_train)"
   ]
  },
  {
   "cell_type": "code",
   "execution_count": 0,
   "metadata": {
    "colab": {},
    "colab_type": "code",
    "id": "LSWw0oLJxBQI"
   },
   "outputs": [],
   "source": [
    "test_pred7 = model6.predict(X_test)"
   ]
  },
  {
   "cell_type": "code",
   "execution_count": 148,
   "metadata": {
    "colab": {
     "base_uri": "https://localhost:8080/",
     "height": 34
    },
    "colab_type": "code",
    "id": "6ak88ABWxIB0",
    "outputId": "dac63840-488b-4681-f8f0-292175bd9ba6"
   },
   "outputs": [
    {
     "data": {
      "text/plain": [
       "0.9773211230180805"
      ]
     },
     "execution_count": 148,
     "metadata": {
      "tags": []
     },
     "output_type": "execute_result"
    }
   ],
   "source": [
    "sqrt(mean_squared_error(y_train, train_pred7))"
   ]
  },
  {
   "cell_type": "code",
   "execution_count": 149,
   "metadata": {
    "colab": {
     "base_uri": "https://localhost:8080/",
     "height": 34
    },
    "colab_type": "code",
    "id": "1bpksSn3xIsr",
    "outputId": "ca162d17-294f-4f24-b463-725830dbeae0"
   },
   "outputs": [
    {
     "data": {
      "text/plain": [
       "1.025405728087289"
      ]
     },
     "execution_count": 149,
     "metadata": {
      "tags": []
     },
     "output_type": "execute_result"
    }
   ],
   "source": [
    "sqrt(mean_squared_error(y_test, test_pred7))"
   ]
  },
  {
   "cell_type": "code",
   "execution_count": 0,
   "metadata": {
    "colab": {},
    "colab_type": "code",
    "id": "AhEbX8E_xJGk"
   },
   "outputs": [],
   "source": [
    "test_pred8 = pd.DataFrame({\"reservation_id\":test_temp['reservation_id'],\"amount_spent_per_room_night_scaled\":model6.predict(test)})"
   ]
  }
 ],
 "metadata": {
  "colab": {
   "collapsed_sections": [],
   "name": "Club Mahindra-checkpoint.ipynb",
   "provenance": [],
   "version": "0.3.2"
  },
  "kernelspec": {
   "display_name": "Python 2",
   "language": "python",
   "name": "python2"
  },
  "language_info": {
   "codemirror_mode": {
    "name": "ipython",
    "version": 2
   },
   "file_extension": ".py",
   "mimetype": "text/x-python",
   "name": "python",
   "nbconvert_exporter": "python",
   "pygments_lexer": "ipython2",
   "version": "2.7.5"
  }
 },
 "nbformat": 4,
 "nbformat_minor": 1
}
